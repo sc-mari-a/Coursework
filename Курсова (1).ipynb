{
  "metadata": {
    "kernelspec": {
      "name": "python",
      "display_name": "Python (Pyodide)",
      "language": "python"
    },
    "language_info": {
      "codemirror_mode": {
        "name": "python",
        "version": 3
      },
      "file_extension": ".py",
      "mimetype": "text/x-python",
      "name": "python",
      "nbconvert_exporter": "python",
      "pygments_lexer": "ipython3",
      "version": "3.8"
    },
    "widgets": {
      "application/vnd.jupyter.widget-state+json": {
        "version_major": 2,
        "version_minor": 0,
        "state": {}
      }
    }
  },
  "nbformat_minor": 4,
  "nbformat": 4,
  "cells": [
    {
      "cell_type": "markdown",
      "source": "Необхідні бібліотеки",
      "metadata": {}
    },
    {
      "cell_type": "code",
      "source": "import cv2\nimport numpy as np\nimport os",
      "metadata": {
        "trusted": true
      },
      "outputs": [],
      "execution_count": 1
    },
    {
      "cell_type": "code",
      "source": "import time",
      "metadata": {
        "trusted": true
      },
      "outputs": [],
      "execution_count": 2
    },
    {
      "cell_type": "markdown",
      "source": "Переробити зображення в масив",
      "metadata": {}
    },
    {
      "cell_type": "code",
      "source": "# перероблюємо зображення в масив чб\ndef convert_of_images(image_path):\n    img = cv2.imread(image_path, 0) // 255\n    return img",
      "metadata": {
        "trusted": true
      },
      "outputs": [],
      "execution_count": 3
    },
    {
      "cell_type": "code",
      "source": "# Функція активації ReLU\ndef relu(x):\n    return np.maximum(0, x)",
      "metadata": {
        "trusted": true
      },
      "outputs": [],
      "execution_count": 4
    },
    {
      "cell_type": "markdown",
      "source": "Функція згортки",
      "metadata": {}
    },
    {
      "cell_type": "code",
      "source": "def convolution(image, kernel, stride=1, padding=0):\n    # додаємо padding\n    image = np.pad(image, [(padding, padding), (padding, padding)], mode='constant', constant_values=0)\n\n    kernel_height, kernel_width = kernel.shape\n    padded_height, padded_width = image.shape\n\n    # Визначаємо розміри вихідного зображення\n    output_height = (padded_height - kernel_height) // stride + 1\n    output_width = (padded_width - kernel_width) // stride + 1\n\n    # вихідне зображення, .astype(np.float32) - для скорочення(прискорює, без 0,(3), з 0,3334)\n    new_image = np.zeros((output_height, output_width)).astype(np.float32)\n\n    # множимо зображення на фільтр\n    for y in range(0, output_height):\n        for x in range(0, output_width):\n            # елем. зображення*елем.фільтра, потім сумуємо і ділимо на кількість елем. в фільтрі(9, оскільки всі фільтри розміром 3x3)\n            region = image[y * stride:y * stride + kernel_height, x * stride:x * stride + kernel_width]\n            sum_of_products = np.sum(region * kernel)/9\n            new_image[y][x] = relu(sum_of_products).astype(np.float32)\n\n    return new_image\n\ndef conv(img, filters):\n    conv = []\n    for i in img:\n        for j in filters:\n            new = convolution(i, j)\n            conv.append(new)\n\n    return conv",
      "metadata": {
        "trusted": true
      },
      "outputs": [],
      "execution_count": 5
    },
    {
      "cell_type": "markdown",
      "source": "Пулінг",
      "metadata": {}
    },
    {
      "cell_type": "code",
      "source": "def max_pooling(image, pool_size = 2):\n    height, width = image.shape\n    pooled_height = height // pool_size\n    pooled_width = width // pool_size\n    pooled_image = np.zeros((pooled_height, pooled_width))\n\n    for i in range(pooled_height):\n        for j in range(pooled_width):\n            start_row = i * pool_size\n            end_row = start_row + pool_size\n            start_col = j * pool_size\n            end_col = start_col + pool_size\n            # вирізаємо елементи, якi були на координатах... знаходимо макс і записуємо в новий масив\n            pooled_image[i, j] = np.max(image[start_row:end_row, start_col:end_col])\n\n    return pooled_image\n\ndef pool(img):\n    pool = []\n    for i in img:\n        new = max_pooling(i)\n        pool.append(new)\n\n    return pool",
      "metadata": {
        "trusted": true
      },
      "outputs": [],
      "execution_count": 6
    },
    {
      "cell_type": "markdown",
      "source": "Карта ознак(згортка кожного каналу)",
      "metadata": {}
    },
    {
      "cell_type": "code",
      "source": "def sign_channel(img, len_filters):\n    dict = []\n\n    for j in range(len_filters):\n        res = np.zeros((len(img[0]), len(img[0])), dtype=int)\n        for i in range(0, len(img), len_filters):\n            res = res + img[i+j]\n        dict.append(res)\n\n    return dict",
      "metadata": {
        "trusted": true
      },
      "outputs": [],
      "execution_count": 7
    },
    {
      "cell_type": "markdown",
      "source": "Алгоритм згортки",
      "metadata": {}
    },
    {
      "cell_type": "code",
      "source": "def feature_extraction(image_path):\n    img = [convert_of_images(image_path)]\n\n    filter1 = np.array([[0, 1, 0], [0, 1, 0], [0, 1, 0]])\n    filter2 = np.array([[0, 0, 0], [1, 1, 1], [0, 0, 0]])\n    filter3 = np.array([[1, 0, 0], [0, 1, 0], [0, 0, 1]])\n    filter4 = np.array([[0, 0, 1], [0, 1, 0], [1, 0, 0]])\n    filter5 = np.array([[1, 1, 1], [1, 0, 1], [1, 1, 1]])\n\n    filter6 = np.array([[-1, -1, 0], [-1,  0, 1], [ 0,  1, 1]])\n    filter7 = np.array([[1, 1, 0], [1,  0, -1], [ 0,  -1, -1]])\n    filter8 = np.array([[-1, -1, -1], [-1,  8, -1], [-1, -1, -1]])\n    filter9 = np.array([[-1, -1, -1], [-1,  9, -1], [-1, -1, -1]])\n    filter10 = np.array([[0, 1, 0], [1, -4, 1], [0, 1, 0]])\n    filter11 = np.array([[-1,  0, 1], [-1,  0, 1], [-1,  0, 1]])\n    filter12 = np.array([[1,  0, -1], [1,  0, -1], [1,  0, -1]])\n    \n    filter13 = np.array([[-1, -1, -1], [2,  2, 2], [-1, -1, -1]])\n    filter14 = np.array([[-1, 0, 1], [-2,  0, 2], [-1, 0, 1]])\n    filter15 = np.array([[-1, -2, -1], [0,  0, 0], [1, 2, 1]])\n    filter16 = np.array([[1, 2, 1], [2,  4, 2], [1, 2, 1]])\n    filter17 = np.array([[0, 1, 0], [1, -4, 1], [0, 1, 0]])\n    filter18 = np.array([[-1, -1, -1], [-1,  8, -1], [-1, -1, -1]])\n    filter19 = np.array([[1,  -2, -1], [-2,  4, -2], [1,  -2, 1]])\n    filter20 = np.array([[1,  1, 1], [1,  -2, 1], [-1,  -1, -1]])\n    filter21 = np.array([[0, -1, 0], [-1, 5, -1], [0, -1, 0]])\n    \n    filters_1 = [filter1, filter2, filter3, filter4, filter5]\n    filters_2 = [filter6, filter7, filter8, filter9, filter10, filter11, filter12]\n    filters_3 = [filter13, filter14, filter15, filter16, filter17, filter18, filter19, filter20, filter21]\n    \n    img_1 = conv(img, filters_1)\n    img_2 = pool(img_1)\n\n    img_3 = conv(img_2, filters_2)\n    img_4 = sign_channel(img_3, len(filters_2))\n    img_5 = pool(img_4)\n    \n    img_6 = conv(img_5, filters_3)\n    img_7 = sign_channel(img_6, len(filters_3))\n    img_8 = pool(img_7)\n\n    # print(img_8)\n    # перебираємо шари, flatten - перероблює в одномірний масив(ну всі рядки пишуться в 1[])\n    res = np.concatenate([i.flatten() for i in img_8])\n\n    # print(res)\n    # print(len(res))\n    \n    return res",
      "metadata": {
        "trusted": true
      },
      "outputs": [],
      "execution_count": 8
    },
    {
      "cell_type": "markdown",
      "source": "Дані",
      "metadata": {}
    },
    {
      "cell_type": "code",
      "source": "# сума міток, має = 1\nstart_time = time.time()\n\ndata = []\n\nfor root, dirs, files in os.walk(\"Фігури/Circle\"):\n    for file in files:\n        # print(f\"Фігури/Circle/{file}\")\n        data.append((feature_extraction(f\"Фігури/Circle/{file}\"), 0))\n        \nprint(len(data))\n\nfor root, dirs, files in os.walk(\"Фігури/Square\"):\n    for file in files:\n        data.append((feature_extraction(f\"Фігури/Square/{file}\"), 0.3))\n        \nprint(len(data))\n\nfor root, dirs, files in os.walk(\"Фігури/Triangle\"):\n    for file in files:\n        data.append((feature_extraction(f\"Фігури/Triangle/{file}\"), 0.7))\n\n# print(data[0])\nprint(len(data))\nend_time = time.time()\n\nexecution_time = end_time - start_time\nprint(\"Час виконання:\", execution_time, \"секунд\")\n\n\n# data.append((feature_extraction(\"Фігури/Circle/circle_1.png\"), 0))\n# data.append((feature_extraction(\"Фігури/Square/square_1.png\"), 0.3))\n# data.append((feature_extraction(\"Фігури/Triangle/triangle_1.png\"), 0.7))\n\n# print(len(data))\n# for input_stats, correct_predict in data:\n#     print(input_stats.shape)\n#     print(f\"correct_predict: {correct_predict}\")",
      "metadata": {
        "trusted": true
      },
      "outputs": [
        {
          "name": "stdout",
          "text": "160\n320\n480\nЧас виконання: 1091.8110001087189 секунд\n",
          "output_type": "stream"
        }
      ],
      "execution_count": 9
    },
    {
      "cell_type": "code",
      "source": "start_time = time.time()\n\n#ТЕСТОВІ ДАННІ\ndata_test = []\n\nfor root, dirs, files in os.walk(\"Фігури/Test\"):\n    for file in files:\n        data_test.append((feature_extraction(f\"Фігури/Test/{file}\"), f\"{file}\"))\n\nend_time = time.time()\n\nexecution_time = end_time - start_time\n# print(len(data_test))\nprint(\"Час виконання:\", execution_time, \"секунд\")",
      "metadata": {
        "trusted": true
      },
      "outputs": [
        {
          "name": "stdout",
          "text": "Час виконання: 192.23099994659424 секунд\n",
          "output_type": "stream"
        }
      ],
      "execution_count": 10
    },
    {
      "cell_type": "code",
      "source": "#рандомні коефіцієнти, які змінюються при навчанні\nweights_0_1 = np.random.normal(0.0, 1, (len(data[0][0])//2,len(data[0][0])))\nweights_1_2 = np.random.normal(0.0, 1, (1,len(data[0][0])//2))\nprint(len(weights_0_1))\nprint(len(weights_0_1[0]))",
      "metadata": {
        "trusted": true
      },
      "outputs": [
        {
          "name": "stdout",
          "text": "112\n225\n",
          "output_type": "stream"
        }
      ],
      "execution_count": 11
    },
    {
      "cell_type": "markdown",
      "source": "Класифікація(функції)",
      "metadata": {}
    },
    {
      "cell_type": "code",
      "source": "def sigmoida(x):\n    return 1 / (1 + np.exp(-x))\n\nfunc_sigmoida = np.vectorize(sigmoida)\n\n# функція помилки\ndef MSE(y, Y):\n    return np.mean((y - Y) ** 2)\n\ndef predict(inputs):\n    inputs_1 = np.dot(weights_0_1, inputs)\n    outputs_1 = func_sigmoida(inputs_1)\n    # print(outputs_1)\n    # print(outputs_1.reshape(1, len(outputs_1)))\n\n    inputs_2 = np.dot(weights_1_2, outputs_1)\n    outputs_2 = func_sigmoida(inputs_2)\n\n    return outputs_2\n\ndef train(inputs, expected_predict):\n    \n    inputs_1 = np.dot(weights_0_1, inputs)\n    outputs_1 = func_sigmoida(inputs_1)\n\n    inputs_2 = np.dot(weights_1_2, outputs_1)\n    outputs_2 = func_sigmoida(inputs_2)\n\n    # список з 1 числа\n    # результат, який ми отримали\n    actual_predict = outputs_2[0]\n\n    # print(f\"actual_predict: {actual_predict}\")\n    # print(weights_1_2)\n    # print(weights_1_2.shape) #розміри (255,)\n    \n    # помилки останнього шару\n    error_layer_2 = np.array([actual_predict - expected_predict])\n    # print(f\"error_layer_2: {error_layer_2}\")\n    gradient_layer_2 = actual_predict * (1 - actual_predict)\n    weights_delta_layer_2 = error_layer_2 * gradient_layer_2\n    # print(gradient_layer_2)\n    # print(weights_delta_layer_2)\n    # Оновлення ваг для вихідного шару\n    calc_weights_1_2 = weights_1_2 - (np.dot(weights_delta_layer_2, outputs_1.reshape(1, len(outputs_1))) * learning_rate)\n\n    error_layer_1 = weights_delta_layer_2 * weights_1_2\n    gradient_layer_1 = outputs_1 * (1 - outputs_1)\n    weights_delta_layer_1 = error_layer_1 * gradient_layer_1\n    # print(len(weights_delta_layer_1))\n\n    calc_weights_0_1 = weights_0_1 - (np.dot(inputs.reshape(len(inputs), 1), weights_delta_layer_1).T * learning_rate)\n\n    return calc_weights_0_1, calc_weights_1_2",
      "metadata": {
        "trusted": true
      },
      "outputs": [],
      "execution_count": 12
    },
    {
      "cell_type": "markdown",
      "source": "Тренування моделі",
      "metadata": {}
    },
    {
      "cell_type": "code",
      "source": "start_time = time.time()\n#процес тренування (перші 2 числа обираємо експерементально)\nepochs = 100\nlearning_rate = 0.05\nt_l = []\n\nfor e in range(epochs):\n    inputs_end = []\n    correct_predictions = []\n\n    for input_stats, correct_predict in data:\n        # print(len(input_stats))\n        weights_0_1, weights_1_2 = train(input_stats, correct_predict)\n        inputs_end.append(np.array(input_stats))\n        correct_predictions.append(np.array(correct_predict))\n\n    train_loss = MSE(predict(np.array(inputs_end).T), np.array(correct_predictions))\n    t_l.append(train_loss)\nprint(\"кінець навчання\")\nend_time = time.time()\n\nexecution_time = end_time - start_time\nprint(\"Час виконання:\", execution_time, \"секунд\")\nt_l",
      "metadata": {
        "trusted": true,
        "scrolled": true
      },
      "outputs": [
        {
          "name": "stdout",
          "text": "кінець навчання\nЧас виконання: 76.8199999332428 секунд\n",
          "output_type": "stream"
        },
        {
          "execution_count": 28,
          "output_type": "execute_result",
          "data": {
            "text/plain": "[0.0018671286702763334,\n 0.0018509735265494884,\n 0.0018351558724389676,\n 0.0018196595601008448,\n 0.001804469311311237,\n 0.001789570616529982,\n 0.0017749496417403968,\n 0.0017605931421444197,\n 0.001746488381872494,\n 0.0017326230589372095,\n 0.0017189852347217246,\n 0.001705563267351599,\n 0.0016923457483570118,\n 0.0016793214420977468,\n 0.0016664792274995817,\n 0.001653808041748389,\n 0.0016412968257127547,\n 0.0016289344710270766,\n 0.0016167097689745503,\n 0.0016046113615737503,\n 0.0015926276956042913,\n 0.0015807469807181732,\n 0.0015689571532845501,\n 0.001557245848214713,\n 0.001545600381716256,\n 0.0015340077487238154,\n 0.0015224546396306372,\n 0.0015109274818580682,\n 0.001499412512673395,\n 0.001487895890382213,\n 0.0014763638514017395,\n 0.0014648029205250248,\n 0.0014532001806011885,\n 0.0014415436055269784,\n 0.0014298224565002149,\n 0.0014180277356435713,\n 0.0014061526832818566,\n 0.001394193295647731,\n 0.0013821488294425434,\n 0.0013700222500174885,\n 0.0013578205731322886,\n 0.0013455550488393276,\n 0.0013332411423574344,\n 0.0013208982821208194,\n 0.0013085493688821802,\n 0.0012962200687667985,\n 0.0012839379422765493,\n 0.0012717314841634018,\n 0.0012596291603559583,\n 0.001247658524908544,\n 0.0012358454831395635,\n 0.0012242137410828754,\n 0.0012127844524074409,\n 0.0012015760482925945,\n 0.0011906042177446208,\n 0.0011798819971847992,\n 0.0011694199280125337,\n 0.001159226246834461,\n 0.001149307082223922,\n 0.0011396666416435136,\n 0.001130307380734884,\n 0.0011212301536271609,\n 0.0011124343470245014,\n 0.0011039180028475576,\n 0.0010956779345923054,\n 0.001087709841862388,\n 0.001080008426209495,\n 0.0010725675098751453,\n 0.0010653801575542016,\n 0.001058438800085745,\n 0.0010517353581199248,\n 0.0010452613633405042,\n 0.0010390080747137813,\n 0.0010329665874229408,\n 0.0010271279325482106,\n 0.0010214831660802282,\n 0.0010160234464236856,\n 0.0010107401000985661,\n 0.0010056246758266341,\n 0.0010006689875779766,\n 0.000995865147433943,\n 0.0009912055893032514,\n 0.0009866830846184949,\n 0.0009822907511576706,\n 0.0009780220560979007,\n 0.000973870814333033,\n 0.0009698311829882596,\n 0.0009658976529555292,\n 0.0009620650381620771,\n 0.0009583284631771093,\n 0.0009546833496621652,\n 0.0009511254020821713,\n 0.00094765059301566,\n 0.0009442551483356942,\n 0.0009409355324761256,\n 0.000937688433949722,\n 0.0009345107512457419,\n 0.0009313995792013778,\n 0.0009283521959153535,\n 0.0009253660502501741]"
          },
          "metadata": {}
        }
      ],
      "execution_count": 28
    },
    {
      "cell_type": "markdown",
      "source": "Прогнозування та виведення результатів",
      "metadata": {}
    },
    {
      "cell_type": "code",
      "source": "start_time = time.time()\n\nfor input_stat, correct_predict in data_test:\n    prediction = predict(np.array(input_stat))\n  \n    print(f\"Правильна відповідь: {correct_predict}, передбачення мережі: {prediction}\") \nend_time = time.time()\n\nexecution_time = end_time - start_time\nprint(\"Час виконання:\", execution_time, \"секунд\")",
      "metadata": {
        "trusted": true,
        "scrolled": true
      },
      "outputs": [
        {
          "name": "stdout",
          "text": "Правильна відповідь: circle_161.png, передбачення мережі: [0.01288126]\nПравильна відповідь: circle_162.png, передбачення мережі: [0.00810202]\nПравильна відповідь: circle_163.png, передбачення мережі: [0.01142174]\nПравильна відповідь: circle_164.png, передбачення мережі: [0.01967379]\nПравильна відповідь: circle_165.png, передбачення мережі: [0.01005712]\nПравильна відповідь: circle_166.png, передбачення мережі: [0.01103208]\nПравильна відповідь: circle_167.png, передбачення мережі: [0.0167985]\nПравильна відповідь: circle_168.png, передбачення мережі: [0.01103208]\nПравильна відповідь: circle_169.png, передбачення мережі: [0.01288126]\nПравильна відповідь: circle_170.png, передбачення мережі: [0.00821608]\nПравильна відповідь: circle_171.png, передбачення мережі: [0.01048488]\nПравильна відповідь: circle_172.png, передбачення мережі: [0.01103208]\nПравильна відповідь: circle_173.png, передбачення мережі: [0.02589454]\nПравильна відповідь: circle_174.png, передбачення мережі: [0.0167985]\nПравильна відповідь: circle_175.png, передбачення мережі: [0.0167985]\nПравильна відповідь: circle_176.png, передбачення мережі: [0.01457141]\nПравильна відповідь: circle_177.png, передбачення мережі: [0.01158391]\nПравильна відповідь: circle_178.png, передбачення мережі: [0.00510998]\nПравильна відповідь: circle_179.png, передбачення мережі: [0.01158391]\nПравильна відповідь: circle_180.png, передбачення мережі: [0.01288126]\nПравильна відповідь: circle_181.png, передбачення мережі: [0.03652749]\nПравильна відповідь: circle_182.png, передбачення мережі: [0.00510998]\nПравильна відповідь: circle_183.png, передбачення мережі: [0.00510998]\nПравильна відповідь: circle_184.png, передбачення мережі: [0.02589454]\nПравильна відповідь: circle_185.png, передбачення мережі: [0.01967379]\nПравильна відповідь: circle_186.png, передбачення мережі: [0.03652749]\nПравильна відповідь: circle_187.png, передбачення мережі: [0.00510998]\nПравильна відповідь: circle_188.png, передбачення мережі: [0.01158391]\nПравильна відповідь: circle_189.png, передбачення мережі: [0.01103208]\nПравильна відповідь: circle_190.png, передбачення мережі: [0.03652749]\nПравильна відповідь: circle_191.png, передбачення мережі: [0.01103208]\nПравильна відповідь: circle_192.png, передбачення мережі: [0.00565072]\nПравильна відповідь: circle_193.png, передбачення мережі: [0.00510998]\nПравильна відповідь: circle_194.png, передбачення мережі: [0.01457141]\nПравильна відповідь: circle_195.png, передбачення мережі: [0.01158391]\nПравильна відповідь: circle_196.png, передбачення мережі: [0.01967379]\nПравильна відповідь: circle_197.png, передбачення мережі: [0.00810202]\nПравильна відповідь: circle_198.png, передбачення мережі: [0.0167985]\nПравильна відповідь: circle_199.png, передбачення мережі: [0.01158391]\nПравильна відповідь: circle_200.png, передбачення мережі: [0.01142174]\nПравильна відповідь: square_161.png, передбачення мережі: [0.30269905]\nПравильна відповідь: square_162.png, передбачення мережі: [0.30750989]\nПравильна відповідь: square_163.png, передбачення мережі: [0.31124429]\nПравильна відповідь: square_164.png, передбачення мережі: [0.30661535]\nПравильна відповідь: square_165.png, передбачення мережі: [0.31156497]\nПравильна відповідь: square_166.png, передбачення мережі: [0.31052037]\nПравильна відповідь: square_167.png, передбачення мережі: [0.30837152]\nПравильна відповідь: square_168.png, передбачення мережі: [0.3084272]\nПравильна відповідь: square_169.png, передбачення мережі: [0.30269905]\nПравильна відповідь: square_170.png, передбачення мережі: [0.31521818]\nПравильна відповідь: square_171.png, передбачення мережі: [0.30750989]\nПравильна відповідь: square_172.png, передбачення мережі: [0.31521818]\nПравильна відповідь: square_173.png, передбачення мережі: [0.31307521]\nПравильна відповідь: square_174.png, передбачення мережі: [0.30750989]\nПравильна відповідь: square_175.png, передбачення мережі: [0.31052037]\nПравильна відповідь: square_176.png, передбачення мережі: [0.31156497]\nПравильна відповідь: square_177.png, передбачення мережі: [0.30837152]\nПравильна відповідь: square_178.png, передбачення мережі: [0.31156497]\nПравильна відповідь: square_179.png, передбачення мережі: [0.31521818]\nПравильна відповідь: square_180.png, передбачення мережі: [0.30837152]\nПравильна відповідь: square_181.png, передбачення мережі: [0.30837152]\nПравильна відповідь: square_182.png, передбачення мережі: [0.30750989]\nПравильна відповідь: square_183.png, передбачення мережі: [0.31156497]\nПравильна відповідь: square_184.png, передбачення мережі: [0.30750989]\nПравильна відповідь: square_185.png, передбачення мережі: [0.31132242]\nПравильна відповідь: square_186.png, передбачення мережі: [0.31052037]\nПравильна відповідь: square_187.png, передбачення мережі: [0.3084272]\nПравильна відповідь: square_188.png, передбачення мережі: [0.31156497]\nПравильна відповідь: square_189.png, передбачення мережі: [0.31124429]\nПравильна відповідь: square_190.png, передбачення мережі: [0.3129838]\nПравильна відповідь: square_191.png, передбачення мережі: [0.3085546]\nПравильна відповідь: square_192.png, передбачення мережі: [0.31307521]\nПравильна відповідь: square_193.png, передбачення мережі: [0.30661535]\nПравильна відповідь: square_194.png, передбачення мережі: [0.31124429]\nПравильна відповідь: square_195.png, передбачення мережі: [0.31397846]\nПравильна відповідь: square_196.png, передбачення мережі: [0.31052037]\nПравильна відповідь: square_197.png, передбачення мережі: [0.31397846]\nПравильна відповідь: square_198.png, передбачення мережі: [0.30750989]\nПравильна відповідь: square_199.png, передбачення мережі: [0.31984607]\nПравильна відповідь: square_200.png, передбачення мережі: [0.31124429]\nПравильна відповідь: triangle_161.png, передбачення мережі: [0.68286441]\nПравильна відповідь: triangle_162.png, передбачення мережі: [0.69409342]\nПравильна відповідь: triangle_163.png, передбачення мережі: [0.69048466]\nПравильна відповідь: triangle_164.png, передбачення мережі: [0.69048466]\nПравильна відповідь: triangle_165.png, передбачення мережі: [0.69048466]\nПравильна відповідь: triangle_166.png, передбачення мережі: [0.66605643]\nПравильна відповідь: triangle_167.png, передбачення мережі: [0.68283241]\nПравильна відповідь: triangle_168.png, передбачення мережі: [0.68441714]\nПравильна відповідь: triangle_169.png, передбачення мережі: [0.77177831]\nПравильна відповідь: triangle_170.png, передбачення мережі: [0.75578025]\nПравильна відповідь: triangle_171.png, передбачення мережі: [0.68533442]\nПравильна відповідь: triangle_172.png, передбачення мережі: [0.69246686]\nПравильна відповідь: triangle_173.png, передбачення мережі: [0.7248035]\nПравильна відповідь: triangle_174.png, передбачення мережі: [0.69727746]\nПравильна відповідь: triangle_175.png, передбачення мережі: [0.79760149]\nПравильна відповідь: triangle_176.png, передбачення мережі: [0.73999608]\nПравильна відповідь: triangle_177.png, передбачення мережі: [0.70083211]\nПравильна відповідь: triangle_178.png, передбачення мережі: [0.69097722]\nПравильна відповідь: triangle_179.png, передбачення мережі: [0.69652209]\nПравильна відповідь: triangle_180.png, передбачення мережі: [0.68584615]\nПравильна відповідь: triangle_181.png, передбачення мережі: [0.80173927]\nПравильна відповідь: triangle_182.png, передбачення мережі: [0.70416696]\nПравильна відповідь: triangle_183.png, передбачення мережі: [0.69097722]\nПравильна відповідь: triangle_184.png, передбачення мережі: [0.7248035]\nПравильна відповідь: triangle_185.png, передбачення мережі: [0.70638747]\nПравильна відповідь: triangle_186.png, передбачення мережі: [0.66280556]\nПравильна відповідь: triangle_187.png, передбачення мережі: [0.67912998]\nПравильна відповідь: triangle_188.png, передбачення мережі: [0.67979526]\nПравильна відповідь: triangle_189.png, передбачення мережі: [0.700009]\nПравильна відповідь: triangle_190.png, передбачення мережі: [0.69326861]\nПравильна відповідь: triangle_191.png, передбачення мережі: [0.7335412]\nПравильна відповідь: triangle_192.png, передбачення мережі: [0.69097722]\nПравильна відповідь: triangle_193.png, передбачення мережі: [0.67004122]\nПравильна відповідь: triangle_194.png, передбачення мережі: [0.69344834]\nПравильна відповідь: triangle_195.png, передбачення мережі: [0.70638747]\nПравильна відповідь: triangle_196.png, передбачення мережі: [0.68324107]\nПравильна відповідь: triangle_197.png, передбачення мережі: [0.68928697]\nПравильна відповідь: triangle_198.png, передбачення мережі: [0.68964219]\nПравильна відповідь: triangle_199.png, передбачення мережі: [0.68286441]\nПравильна відповідь: triangle_200.png, передбачення мережі: [0.69744957]\nЧас виконання: 0.27300000190734863 секунд\n",
          "output_type": "stream"
        }
      ],
      "execution_count": 29
    }
  ]
}